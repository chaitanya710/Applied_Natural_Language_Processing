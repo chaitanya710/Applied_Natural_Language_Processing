{
  "nbformat": 4,
  "nbformat_minor": 0,
  "metadata": {
    "colab": {
      "name": "type_token_ratio.ipynb",
      "provenance": []
    },
    "kernelspec": {
      "name": "python3",
      "display_name": "Python 3"
    },
    "language_info": {
      "name": "python"
    }
  },
  "cells": [
    {
      "cell_type": "code",
      "execution_count": 6,
      "metadata": {
        "colab": {
          "base_uri": "https://localhost:8080/"
        },
        "id": "Z1cljeyCXk1P",
        "outputId": "d747be84-2b5b-40ee-c4c2-0edf01cf76ab"
      },
      "outputs": [
        {
          "output_type": "stream",
          "name": "stderr",
          "text": [
            "[nltk_data] Downloading package stopwords to /root/nltk_data...\n",
            "[nltk_data]   Package stopwords is already up-to-date!\n",
            "[nltk_data] Downloading package gutenberg to /root/nltk_data...\n",
            "[nltk_data]   Unzipping corpora/gutenberg.zip.\n"
          ]
        },
        {
          "output_type": "stream",
          "name": "stdout",
          "text": [
            "For bryant-stories, vocabulary =  1645  number of tokens =  7077 TTR =  0.2324431256181998\n",
            "For emma-stories, vocabulary =  2096  number of tokens =  6871 TTR =  0.3050502110318731\n"
          ]
        }
      ],
      "source": [
        "import nltk\n",
        "from nltk.corpus import stopwords\n",
        "nltk.download('stopwords')\n",
        "nltk.download('gutenberg')\n",
        "#get the stop words for english\n",
        "stop_words = set(stopwords.words('english'))\n",
        "#read corpus \n",
        "words_bryant = nltk.Text(nltk.corpus.gutenberg.words('bryant-stories.txt'))\n",
        "words_emma = nltk.Text(nltk.corpus.gutenberg.words('austen-emma.txt'))\n",
        "\n",
        "#convert to small letters, take only first 15000 words for demo\n",
        "words_bryant = [word.lower() for word in words_bryant if word.isalpha()][:15000]\n",
        "words_bryant = [word.lower() for word in words_bryant if word not in stop_words][:15000]\n",
        "\n",
        "words_emma = [word.lower() for word in words_emma if word.isalpha()][:15000]\n",
        "words_emma = [word.lower() for word in words_emma if word not in stop_words][:15000]\n",
        "\n",
        "TTR_bryant = len(set(words_bryant))/len(words_bryant)\n",
        "TTR_emma = len(set(words_emma))/len(words_emma)\n",
        "\n",
        "print('For bryant-stories, vocabulary = ',len(set(words_bryant)),' number of tokens = ',len(words_bryant),'TTR = ',TTR_bryant)\n",
        "print('For emma-stories, vocabulary = ',len(set(words_emma)),' number of tokens = ',len(words_emma),'TTR = ',TTR_emma)"
      ]
    }
  ]
}